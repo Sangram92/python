{
 "cells": [
  {
   "cell_type": "code",
   "execution_count": 65,
   "metadata": {},
   "outputs": [
    {
     "name": "stdout",
     "output_type": "stream",
     "text": [
      "1 ==> 4.864166666666667\n",
      "2 ==> 4.864166666666667\n",
      "3 ==> 5.088583333333333\n",
      "4 ==> 5.088583333333333\n",
      "13 ==> 4.534483333333333\n",
      "14 ==> 4.534483333333333\n",
      "22 ==> 3.0385166666666668\n",
      "23 ==> 3.0385166666666668\n",
      "36 ==> 4.7521\n",
      "37 ==> 4.7521\n",
      "46 ==> 2.92825\n",
      "47 ==> 3.7489333333333335\n",
      "48 ==> 4.134633333333333\n",
      "49 ==> 2.750183333333333\n",
      "60 ==> 4.093916666666667\n",
      "61 ==> 4.093916666666667\n",
      "82 ==> 5.494266666666666\n",
      "83 ==> 5.494266666666666\n",
      "84 ==> 2.8802833333333333\n",
      "85 ==> 2.8802833333333333\n",
      "101 ==> 4.95035\n",
      "102 ==> 4.95035\n",
      "119 ==> 3.631266666666667\n",
      "120 ==> 3.631266666666667\n",
      "121 ==> 3.631266666666667\n",
      "122 ==> 3.631266666666667\n",
      "123 ==> 3.631266666666667\n",
      "165 ==> 5.639183333333333\n",
      "166 ==> 5.639183333333333\n",
      "195 ==> 4.663683333333333\n",
      "196 ==> 4.663683333333333\n",
      "252 ==> 5.255616666666667\n",
      "253 ==> 5.255616666666667\n",
      "340 ==> 5.92995\n",
      "341 ==> 5.92995\n",
      "399 ==> 4.406916666666667\n",
      "434 ==> 4.622566666666667\n",
      "435 ==> 4.622566666666667\n",
      "436 ==> 3.1764833333333335\n",
      "437 ==> 3.1764833333333335\n",
      "467 ==> 3.8433\n",
      "468 ==> 3.8433\n",
      "471 ==> 3.880516666666667\n",
      "472 ==> 3.880516666666667\n",
      "476 ==> 5.876316666666667\n",
      "477 ==> 5.876316666666667\n",
      "492 ==> 3.4826333333333332\n",
      "493 ==> 3.4826333333333332\n",
      "Correct Entries Found ===>  48\n"
     ]
    }
   ],
   "source": [
    "import pandas as pd\n",
    "import numpy as np\n",
    "\n",
    "parse_dates = ['CLAIMCREATIONDATE', 'CLAIMCLOSEDATE']\n",
    "data = pd.read_csv(\"C:/Users/sangrpatil/Desktop/Minion Training/PaymentUnder6.csv\", parse_dates=parse_dates)\n",
    "\n",
    "correct_entries = 0\n",
    "for idx, val in data['CLAIMCLOSEDATE'].items():\n",
    "    if val and data['CLAIMCREATIONDATE'][idx]:\n",
    "        diff = val - data['CLAIMCREATIONDATE'][idx]\n",
    "        diff_in_minutes = diff / np.timedelta64(1, 'm')\n",
    "        if diff_in_minutes < 6:\n",
    "            correct_entries += 1\n",
    "            print(idx, \"==>\", diff_in_minutes)\n",
    "print(\"Correct Entries Found ===> \", correct_entries)\n",
    "    "
   ]
  },
  {
   "cell_type": "code",
   "execution_count": null,
   "metadata": {},
   "outputs": [],
   "source": []
  }
 ],
 "metadata": {
  "kernelspec": {
   "display_name": "Python 3",
   "language": "python",
   "name": "python3"
  },
  "language_info": {
   "codemirror_mode": {
    "name": "ipython",
    "version": 3
   },
   "file_extension": ".py",
   "mimetype": "text/x-python",
   "name": "python",
   "nbconvert_exporter": "python",
   "pygments_lexer": "ipython3",
   "version": "3.8.1"
  }
 },
 "nbformat": 4,
 "nbformat_minor": 4
}
