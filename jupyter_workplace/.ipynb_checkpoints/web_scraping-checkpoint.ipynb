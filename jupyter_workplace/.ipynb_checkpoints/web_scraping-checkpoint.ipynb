{
 "cells": [
  {
   "cell_type": "code",
   "execution_count": 76,
   "metadata": {},
   "outputs": [
    {
     "name": "stdout",
     "output_type": "stream",
     "text": [
      "What is a coronavirus? ==>>>>\n",
      "What is COVID-19? ==>>>>\n",
      "What are the symptoms of COVID-19? ==>>>>\n",
      "How does COVID-19 spread? ==>>>>\n",
      "What can I do to protect myself and prevent the spread of disease? ==>>>>\n",
      "How likely am I to catch COVID-19? ==>>>>\n",
      "Should I worry about COVID-19? ==>>>>\n",
      "Who is at risk of developing severe illness? ==>>>>\n",
      "Are antibiotics effective in preventing or treating the COVID-19? ==>>>>\n",
      "Is there a vaccine, drug or treatment for COVID-19? ==>>>>\n",
      "Is COVID-19 the same as SARS? ==>>>>\n",
      "Should I wear a mask to protect myself? ==>>>>\n",
      "How to put on, use, take off and dispose of a mask? ==>>>>\n",
      "How long is the incubation period for COVID-19? ==>>>>\n",
      "Can humans become infected with the COVID-19 from an animal source? ==>>>>\n",
      "Can I catch COVID-19 from my pet? ==>>>>\n",
      "How long does the virus survive on surfaces? ==>>>>\n",
      "Is it safe to receive a package from any area where COVID-19 has been reported? ==>>>>\n",
      "Is there anything I should not do? ==>>>>\n",
      "Q&A References ==>>>>\n"
     ]
    }
   ],
   "source": [
    "from urllib.request import urlopen as uReq\n",
    "from bs4 import BeautifulSoup as soup\n",
    "\n",
    "url = \"https://www.who.int/news-room/q-a-detail/q-a-coronaviruses\"\n",
    "\n",
    "# opening up connect & grabbing the page\n",
    "uClient = uReq(url)\n",
    "page_html = uClient.read()\n",
    "uClient.close()\n",
    "\n",
    "# html parsing\n",
    "page_soup = soup(page_html, \"html.parser\")\n",
    "faq = page_soup.findAll(\"div\", {\"class\": \"sf-accordion__panel\"})\n",
    "\n",
    "for qna in faq:\n",
    "    question = qna.div.findAll(\"a\", {\"class\": \"sf-accordion__link\"})[0].text.strip()\n",
    "    answer = qna.findAll(\"div\", {\"class\": \"sf-accordion__content\"})[0].text.strip()\n",
    "\n"
   ]
  }
 ],
 "metadata": {
  "kernelspec": {
   "display_name": "Python 3",
   "language": "python",
   "name": "python3"
  },
  "language_info": {
   "codemirror_mode": {
    "name": "ipython",
    "version": 3
   },
   "file_extension": ".py",
   "mimetype": "text/x-python",
   "name": "python",
   "nbconvert_exporter": "python",
   "pygments_lexer": "ipython3",
   "version": "3.8.1"
  }
 },
 "nbformat": 4,
 "nbformat_minor": 4
}
